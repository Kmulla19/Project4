{
 "cells": [
  {
   "cell_type": "markdown",
   "id": "85a404c5",
   "metadata": {},
   "source": [
    "### Setting Up Standard Imports"
   ]
  },
  {
   "cell_type": "code",
   "execution_count": 218,
   "id": "deb1fafd",
   "metadata": {},
   "outputs": [
    {
     "name": "stdout",
     "output_type": "stream",
     "text": [
      "The autoreload extension is already loaded. To reload it, use:\n",
      "  %reload_ext autoreload\n"
     ]
    }
   ],
   "source": [
    "%load_ext autoreload\n",
    "%autoreload 2\n",
    "\n",
    "import os\n",
    "import sys\n",
    "module_path = os.path.abspath(os.path.join(os.pardir, os.pardir))\n",
    "if module_path not in sys.path:\n",
    "    sys.path.append(module_path)\n",
    "    \n",
    "import pandas as pd\n",
    "import nltk\n",
    "from nltk.probability import FreqDist\n",
    "from nltk.corpus import stopwords\n",
    "from nltk.tokenize import regexp_tokenize, word_tokenize, RegexpTokenizer\n",
    "from nltk import pos_tag\n",
    "from nltk.corpus import wordnet\n",
    "import matplotlib.pyplot as plt\n",
    "import string\n",
    "import re\n",
    "\n",
    "from sklearn.feature_extraction.text import TfidfVectorizer, CountVectorizer\n",
    "from sklearn.ensemble import RandomForestClassifier\n",
    "from sklearn.naive_bayes import MultinomialNB\n",
    "from sklearn.metrics import accuracy_score, precision_score, confusion_matrix, plot_confusion_matrix\n",
    "from sklearn.model_selection import train_test_split\n",
    "from sklearn.model_selection import GridSearchCV"
   ]
  },
  {
   "cell_type": "markdown",
   "id": "134e0a98",
   "metadata": {},
   "source": [
    "### Importing Clean Data"
   ]
  },
  {
   "cell_type": "code",
   "execution_count": 58,
   "id": "186ad823",
   "metadata": {},
   "outputs": [
    {
     "data": {
      "text/html": [
       "<div>\n",
       "<style scoped>\n",
       "    .dataframe tbody tr th:only-of-type {\n",
       "        vertical-align: middle;\n",
       "    }\n",
       "\n",
       "    .dataframe tbody tr th {\n",
       "        vertical-align: top;\n",
       "    }\n",
       "\n",
       "    .dataframe thead th {\n",
       "        text-align: right;\n",
       "    }\n",
       "</style>\n",
       "<table border=\"1\" class=\"dataframe\">\n",
       "  <thead>\n",
       "    <tr style=\"text-align: right;\">\n",
       "      <th></th>\n",
       "      <th>body</th>\n",
       "      <th>target</th>\n",
       "      <th>company</th>\n",
       "    </tr>\n",
       "  </thead>\n",
       "  <tbody>\n",
       "    <tr>\n",
       "      <th>0</th>\n",
       "      <td>['wesley', 'i', 'have', 'a', 'g', 'iphone', 'a...</td>\n",
       "      <td>0</td>\n",
       "      <td>apple</td>\n",
       "    </tr>\n",
       "    <tr>\n",
       "      <th>1</th>\n",
       "      <td>['jessedee', 'know', 'about', 'fludapp', 'awes...</td>\n",
       "      <td>2</td>\n",
       "      <td>apple</td>\n",
       "    </tr>\n",
       "    <tr>\n",
       "      <th>2</th>\n",
       "      <td>['swonderlin', 'can', 'not', 'wait', 'for', 'i...</td>\n",
       "      <td>2</td>\n",
       "      <td>apple</td>\n",
       "    </tr>\n",
       "    <tr>\n",
       "      <th>3</th>\n",
       "      <td>['sxsw', 'i', 'hope', 'this', 'year', 'festiva...</td>\n",
       "      <td>0</td>\n",
       "      <td>apple</td>\n",
       "    </tr>\n",
       "    <tr>\n",
       "      <th>4</th>\n",
       "      <td>['sxtxstate', 'great', 'stuff', 'on', 'fri', '...</td>\n",
       "      <td>2</td>\n",
       "      <td>google</td>\n",
       "    </tr>\n",
       "    <tr>\n",
       "      <th>...</th>\n",
       "      <td>...</td>\n",
       "      <td>...</td>\n",
       "      <td>...</td>\n",
       "    </tr>\n",
       "    <tr>\n",
       "      <th>8158</th>\n",
       "      <td>['ipad', 'everywhere', 'sxsw', 'link']</td>\n",
       "      <td>2</td>\n",
       "      <td>apple</td>\n",
       "    </tr>\n",
       "    <tr>\n",
       "      <th>8159</th>\n",
       "      <td>['wave', 'buzz', 'rt', 'mention', 'we', 'inter...</td>\n",
       "      <td>1</td>\n",
       "      <td>google</td>\n",
       "    </tr>\n",
       "    <tr>\n",
       "      <th>8160</th>\n",
       "      <td>['google', 'zeiger', 'a', 'physician', 'never'...</td>\n",
       "      <td>1</td>\n",
       "      <td>google</td>\n",
       "    </tr>\n",
       "    <tr>\n",
       "      <th>8161</th>\n",
       "      <td>['some', 'verizon', 'iphone', 'customer', 'com...</td>\n",
       "      <td>1</td>\n",
       "      <td>apple</td>\n",
       "    </tr>\n",
       "    <tr>\n",
       "      <th>8162</th>\n",
       "      <td>['њпўћпаљь_ѓкѓоѓтѓјѓбввѓ_ѓјѓџв_ывrt', 'mention...</td>\n",
       "      <td>1</td>\n",
       "      <td>google</td>\n",
       "    </tr>\n",
       "  </tbody>\n",
       "</table>\n",
       "<p>8163 rows × 3 columns</p>\n",
       "</div>"
      ],
      "text/plain": [
       "                                                   body  target company\n",
       "0     ['wesley', 'i', 'have', 'a', 'g', 'iphone', 'a...       0   apple\n",
       "1     ['jessedee', 'know', 'about', 'fludapp', 'awes...       2   apple\n",
       "2     ['swonderlin', 'can', 'not', 'wait', 'for', 'i...       2   apple\n",
       "3     ['sxsw', 'i', 'hope', 'this', 'year', 'festiva...       0   apple\n",
       "4     ['sxtxstate', 'great', 'stuff', 'on', 'fri', '...       2  google\n",
       "...                                                 ...     ...     ...\n",
       "8158             ['ipad', 'everywhere', 'sxsw', 'link']       2   apple\n",
       "8159  ['wave', 'buzz', 'rt', 'mention', 'we', 'inter...       1  google\n",
       "8160  ['google', 'zeiger', 'a', 'physician', 'never'...       1  google\n",
       "8161  ['some', 'verizon', 'iphone', 'customer', 'com...       1   apple\n",
       "8162  ['њпўћпаљь_ѓкѓоѓтѓјѓбввѓ_ѓјѓџв_ывrt', 'mention...       1  google\n",
       "\n",
       "[8163 rows x 3 columns]"
      ]
     },
     "execution_count": 58,
     "metadata": {},
     "output_type": "execute_result"
    }
   ],
   "source": [
    "corpus = pd.read_csv('data/cleaned.csv')\n",
    "corpus.drop(columns='Unnamed: 0', inplace=True)\n",
    "corpus"
   ]
  },
  {
   "cell_type": "markdown",
   "id": "224f586a",
   "metadata": {},
   "source": [
    "### Setting Up Train-Test-Split for Modeling"
   ]
  },
  {
   "cell_type": "code",
   "execution_count": 100,
   "id": "7f784bc2",
   "metadata": {},
   "outputs": [],
   "source": [
    "X = corpus.body\n",
    "y = corpus.target"
   ]
  },
  {
   "cell_type": "code",
   "execution_count": 101,
   "id": "ccc5b533",
   "metadata": {},
   "outputs": [],
   "source": [
    "X_train, X_test, y_train, y_test = train_test_split(X,\n",
    "                                                    y,\n",
    "                                                    random_state=42,\n",
    "                                                    test_size=0.25)"
   ]
  },
  {
   "cell_type": "code",
   "execution_count": 102,
   "id": "f3c73a37",
   "metadata": {},
   "outputs": [],
   "source": [
    "# Secondary train-test split to build our best model\n",
    "X_t, X_val, y_t, y_val = train_test_split(X_train, y_train,\n",
    "                                          test_size=0.25, random_state=42)"
   ]
  },
  {
   "cell_type": "markdown",
   "id": "2aa07083",
   "metadata": {},
   "source": [
    "### Using Count Vectorizer "
   ]
  },
  {
   "cell_type": "code",
   "execution_count": 133,
   "id": "b2f9eb8a",
   "metadata": {},
   "outputs": [],
   "source": [
    "cv = CountVectorizer()"
   ]
  },
  {
   "cell_type": "code",
   "execution_count": 134,
   "id": "acdfa0b2",
   "metadata": {},
   "outputs": [],
   "source": [
    "X_t_vec = cv.fit_transform(X_t)\n",
    "X_t_vec = pd.DataFrame.sparse.from_spmatrix(X_t_vec)\n",
    "X_t_vec.columns = sorted(cv.vocabulary_)\n",
    "X_t_vec.set_index(y_t.index, inplace=True)"
   ]
  },
  {
   "cell_type": "code",
   "execution_count": 135,
   "id": "b59bcea7",
   "metadata": {},
   "outputs": [],
   "source": [
    "# We then transform the validation set. (Do not refit the vectorizer!)\n",
    "\n",
    "X_val_vec = cv.transform(X_val)\n",
    "X_val_vec  = pd.DataFrame.sparse.from_spmatrix(X_val_vec)\n",
    "X_val_vec.columns = sorted(cv.vocabulary_)\n",
    "X_val_vec.set_index(y_val.index, inplace=True)"
   ]
  },
  {
   "cell_type": "markdown",
   "id": "0be650af",
   "metadata": {},
   "source": [
    "### Dummy Model"
   ]
  },
  {
   "cell_type": "code",
   "execution_count": 166,
   "id": "51d97119",
   "metadata": {},
   "outputs": [],
   "source": [
    "from sklearn.dummy import DummyClassifier"
   ]
  },
  {
   "cell_type": "code",
   "execution_count": 170,
   "id": "4e9c0375",
   "metadata": {},
   "outputs": [],
   "source": [
    "dum = DummyClassifier(strategy='most_frequent')"
   ]
  },
  {
   "cell_type": "code",
   "execution_count": 171,
   "id": "3934c4f0",
   "metadata": {},
   "outputs": [
    {
     "data": {
      "text/html": [
       "<style>#sk-container-id-8 {color: black;background-color: white;}#sk-container-id-8 pre{padding: 0;}#sk-container-id-8 div.sk-toggleable {background-color: white;}#sk-container-id-8 label.sk-toggleable__label {cursor: pointer;display: block;width: 100%;margin-bottom: 0;padding: 0.3em;box-sizing: border-box;text-align: center;}#sk-container-id-8 label.sk-toggleable__label-arrow:before {content: \"▸\";float: left;margin-right: 0.25em;color: #696969;}#sk-container-id-8 label.sk-toggleable__label-arrow:hover:before {color: black;}#sk-container-id-8 div.sk-estimator:hover label.sk-toggleable__label-arrow:before {color: black;}#sk-container-id-8 div.sk-toggleable__content {max-height: 0;max-width: 0;overflow: hidden;text-align: left;background-color: #f0f8ff;}#sk-container-id-8 div.sk-toggleable__content pre {margin: 0.2em;color: black;border-radius: 0.25em;background-color: #f0f8ff;}#sk-container-id-8 input.sk-toggleable__control:checked~div.sk-toggleable__content {max-height: 200px;max-width: 100%;overflow: auto;}#sk-container-id-8 input.sk-toggleable__control:checked~label.sk-toggleable__label-arrow:before {content: \"▾\";}#sk-container-id-8 div.sk-estimator input.sk-toggleable__control:checked~label.sk-toggleable__label {background-color: #d4ebff;}#sk-container-id-8 div.sk-label input.sk-toggleable__control:checked~label.sk-toggleable__label {background-color: #d4ebff;}#sk-container-id-8 input.sk-hidden--visually {border: 0;clip: rect(1px 1px 1px 1px);clip: rect(1px, 1px, 1px, 1px);height: 1px;margin: -1px;overflow: hidden;padding: 0;position: absolute;width: 1px;}#sk-container-id-8 div.sk-estimator {font-family: monospace;background-color: #f0f8ff;border: 1px dotted black;border-radius: 0.25em;box-sizing: border-box;margin-bottom: 0.5em;}#sk-container-id-8 div.sk-estimator:hover {background-color: #d4ebff;}#sk-container-id-8 div.sk-parallel-item::after {content: \"\";width: 100%;border-bottom: 1px solid gray;flex-grow: 1;}#sk-container-id-8 div.sk-label:hover label.sk-toggleable__label {background-color: #d4ebff;}#sk-container-id-8 div.sk-serial::before {content: \"\";position: absolute;border-left: 1px solid gray;box-sizing: border-box;top: 0;bottom: 0;left: 50%;z-index: 0;}#sk-container-id-8 div.sk-serial {display: flex;flex-direction: column;align-items: center;background-color: white;padding-right: 0.2em;padding-left: 0.2em;position: relative;}#sk-container-id-8 div.sk-item {position: relative;z-index: 1;}#sk-container-id-8 div.sk-parallel {display: flex;align-items: stretch;justify-content: center;background-color: white;position: relative;}#sk-container-id-8 div.sk-item::before, #sk-container-id-8 div.sk-parallel-item::before {content: \"\";position: absolute;border-left: 1px solid gray;box-sizing: border-box;top: 0;bottom: 0;left: 50%;z-index: -1;}#sk-container-id-8 div.sk-parallel-item {display: flex;flex-direction: column;z-index: 1;position: relative;background-color: white;}#sk-container-id-8 div.sk-parallel-item:first-child::after {align-self: flex-end;width: 50%;}#sk-container-id-8 div.sk-parallel-item:last-child::after {align-self: flex-start;width: 50%;}#sk-container-id-8 div.sk-parallel-item:only-child::after {width: 0;}#sk-container-id-8 div.sk-dashed-wrapped {border: 1px dashed gray;margin: 0 0.4em 0.5em 0.4em;box-sizing: border-box;padding-bottom: 0.4em;background-color: white;}#sk-container-id-8 div.sk-label label {font-family: monospace;font-weight: bold;display: inline-block;line-height: 1.2em;}#sk-container-id-8 div.sk-label-container {text-align: center;}#sk-container-id-8 div.sk-container {/* jupyter's `normalize.less` sets `[hidden] { display: none; }` but bootstrap.min.css set `[hidden] { display: none !important; }` so we also need the `!important` here to be able to override the default hidden behavior on the sphinx rendered scikit-learn.org. See: https://github.com/scikit-learn/scikit-learn/issues/21755 */display: inline-block !important;position: relative;}#sk-container-id-8 div.sk-text-repr-fallback {display: none;}</style><div id=\"sk-container-id-8\" class=\"sk-top-container\"><div class=\"sk-text-repr-fallback\"><pre>DummyClassifier(strategy=&#x27;most_frequent&#x27;)</pre><b>In a Jupyter environment, please rerun this cell to show the HTML representation or trust the notebook. <br />On GitHub, the HTML representation is unable to render, please try loading this page with nbviewer.org.</b></div><div class=\"sk-container\" hidden><div class=\"sk-item\"><div class=\"sk-estimator sk-toggleable\"><input class=\"sk-toggleable__control sk-hidden--visually\" id=\"sk-estimator-id-8\" type=\"checkbox\" checked><label for=\"sk-estimator-id-8\" class=\"sk-toggleable__label sk-toggleable__label-arrow\">DummyClassifier</label><div class=\"sk-toggleable__content\"><pre>DummyClassifier(strategy=&#x27;most_frequent&#x27;)</pre></div></div></div></div></div>"
      ],
      "text/plain": [
       "DummyClassifier(strategy='most_frequent')"
      ]
     },
     "execution_count": 171,
     "metadata": {},
     "output_type": "execute_result"
    }
   ],
   "source": [
    "dum.fit(X_t_vec, y_t)"
   ]
  },
  {
   "cell_type": "code",
   "execution_count": 173,
   "id": "80a6c982",
   "metadata": {},
   "outputs": [],
   "source": [
    "ydum_hat = dum.predict(X_val)"
   ]
  },
  {
   "cell_type": "code",
   "execution_count": 175,
   "id": "b03c940d",
   "metadata": {},
   "outputs": [
    {
     "data": {
      "text/plain": [
       "0.6636185499673416"
      ]
     },
     "execution_count": 175,
     "metadata": {},
     "output_type": "execute_result"
    }
   ],
   "source": [
    "accuracy_score(y_val, y_hat)"
   ]
  },
  {
   "cell_type": "code",
   "execution_count": 209,
   "id": "d53d9827",
   "metadata": {},
   "outputs": [
    {
     "name": "stderr",
     "output_type": "stream",
     "text": [
      "/Library/Frameworks/Python.framework/Versions/3.10/lib/python3.10/site-packages/sklearn/utils/deprecation.py:87: FutureWarning: Function plot_confusion_matrix is deprecated; Function `plot_confusion_matrix` is deprecated in 1.0 and will be removed in 1.2. Use one of the class methods: ConfusionMatrixDisplay.from_predictions or ConfusionMatrixDisplay.from_estimator.\n",
      "  warnings.warn(msg, category=FutureWarning)\n"
     ]
    },
    {
     "data": {
      "text/plain": [
       "<sklearn.metrics._plot.confusion_matrix.ConfusionMatrixDisplay at 0x14426ebf0>"
      ]
     },
     "execution_count": 209,
     "metadata": {},
     "output_type": "execute_result"
    },
    {
     "data": {
      "image/png": "[encoded data removed]",
      "text/plain": [
       "<Figure size 640x480 with 2 Axes>"
      ]
     },
     "metadata": {},
     "output_type": "display_data"
    }
   ],
   "source": [
    "plot_confusion_matrix(dum, X_val, y_val)"
   ]
  },
  {
   "cell_type": "markdown",
   "id": "3159f9c9",
   "metadata": {},
   "source": [
    "### First Model -- Multinomial Naive Bayes with count vectorizer"
   ]
  },
  {
   "cell_type": "code",
   "execution_count": 106,
   "id": "eb2332f2",
   "metadata": {},
   "outputs": [],
   "source": [
    "baseline_model = MultinomialNB()"
   ]
  },
  {
   "cell_type": "code",
   "execution_count": 107,
   "id": "185a7e2e",
   "metadata": {},
   "outputs": [
    {
     "data": {
      "text/html": [
       "<style>#sk-container-id-3 {color: black;background-color: white;}#sk-container-id-3 pre{padding: 0;}#sk-container-id-3 div.sk-toggleable {background-color: white;}#sk-container-id-3 label.sk-toggleable__label {cursor: pointer;display: block;width: 100%;margin-bottom: 0;padding: 0.3em;box-sizing: border-box;text-align: center;}#sk-container-id-3 label.sk-toggleable__label-arrow:before {content: \"▸\";float: left;margin-right: 0.25em;color: #696969;}#sk-container-id-3 label.sk-toggleable__label-arrow:hover:before {color: black;}#sk-container-id-3 div.sk-estimator:hover label.sk-toggleable__label-arrow:before {color: black;}#sk-container-id-3 div.sk-toggleable__content {max-height: 0;max-width: 0;overflow: hidden;text-align: left;background-color: #f0f8ff;}#sk-container-id-3 div.sk-toggleable__content pre {margin: 0.2em;color: black;border-radius: 0.25em;background-color: #f0f8ff;}#sk-container-id-3 input.sk-toggleable__control:checked~div.sk-toggleable__content {max-height: 200px;max-width: 100%;overflow: auto;}#sk-container-id-3 input.sk-toggleable__control:checked~label.sk-toggleable__label-arrow:before {content: \"▾\";}#sk-container-id-3 div.sk-estimator input.sk-toggleable__control:checked~label.sk-toggleable__label {background-color: #d4ebff;}#sk-container-id-3 div.sk-label input.sk-toggleable__control:checked~label.sk-toggleable__label {background-color: #d4ebff;}#sk-container-id-3 input.sk-hidden--visually {border: 0;clip: rect(1px 1px 1px 1px);clip: rect(1px, 1px, 1px, 1px);height: 1px;margin: -1px;overflow: hidden;padding: 0;position: absolute;width: 1px;}#sk-container-id-3 div.sk-estimator {font-family: monospace;background-color: #f0f8ff;border: 1px dotted black;border-radius: 0.25em;box-sizing: border-box;margin-bottom: 0.5em;}#sk-container-id-3 div.sk-estimator:hover {background-color: #d4ebff;}#sk-container-id-3 div.sk-parallel-item::after {content: \"\";width: 100%;border-bottom: 1px solid gray;flex-grow: 1;}#sk-container-id-3 div.sk-label:hover label.sk-toggleable__label {background-color: #d4ebff;}#sk-container-id-3 div.sk-serial::before {content: \"\";position: absolute;border-left: 1px solid gray;box-sizing: border-box;top: 0;bottom: 0;left: 50%;z-index: 0;}#sk-container-id-3 div.sk-serial {display: flex;flex-direction: column;align-items: center;background-color: white;padding-right: 0.2em;padding-left: 0.2em;position: relative;}#sk-container-id-3 div.sk-item {position: relative;z-index: 1;}#sk-container-id-3 div.sk-parallel {display: flex;align-items: stretch;justify-content: center;background-color: white;position: relative;}#sk-container-id-3 div.sk-item::before, #sk-container-id-3 div.sk-parallel-item::before {content: \"\";position: absolute;border-left: 1px solid gray;box-sizing: border-box;top: 0;bottom: 0;left: 50%;z-index: -1;}#sk-container-id-3 div.sk-parallel-item {display: flex;flex-direction: column;z-index: 1;position: relative;background-color: white;}#sk-container-id-3 div.sk-parallel-item:first-child::after {align-self: flex-end;width: 50%;}#sk-container-id-3 div.sk-parallel-item:last-child::after {align-self: flex-start;width: 50%;}#sk-container-id-3 div.sk-parallel-item:only-child::after {width: 0;}#sk-container-id-3 div.sk-dashed-wrapped {border: 1px dashed gray;margin: 0 0.4em 0.5em 0.4em;box-sizing: border-box;padding-bottom: 0.4em;background-color: white;}#sk-container-id-3 div.sk-label label {font-family: monospace;font-weight: bold;display: inline-block;line-height: 1.2em;}#sk-container-id-3 div.sk-label-container {text-align: center;}#sk-container-id-3 div.sk-container {/* jupyter's `normalize.less` sets `[hidden] { display: none; }` but bootstrap.min.css set `[hidden] { display: none !important; }` so we also need the `!important` here to be able to override the default hidden behavior on the sphinx rendered scikit-learn.org. See: https://github.com/scikit-learn/scikit-learn/issues/21755 */display: inline-block !important;position: relative;}#sk-container-id-3 div.sk-text-repr-fallback {display: none;}</style><div id=\"sk-container-id-3\" class=\"sk-top-container\"><div class=\"sk-text-repr-fallback\"><pre>MultinomialNB()</pre><b>In a Jupyter environment, please rerun this cell to show the HTML representation or trust the notebook. <br />On GitHub, the HTML representation is unable to render, please try loading this page with nbviewer.org.</b></div><div class=\"sk-container\" hidden><div class=\"sk-item\"><div class=\"sk-estimator sk-toggleable\"><input class=\"sk-toggleable__control sk-hidden--visually\" id=\"sk-estimator-id-3\" type=\"checkbox\" checked><label for=\"sk-estimator-id-3\" class=\"sk-toggleable__label sk-toggleable__label-arrow\">MultinomialNB</label><div class=\"sk-toggleable__content\"><pre>MultinomialNB()</pre></div></div></div></div></div>"
      ],
      "text/plain": [
       "MultinomialNB()"
      ]
     },
     "execution_count": 107,
     "metadata": {},
     "output_type": "execute_result"
    }
   ],
   "source": [
    "baseline_model.fit(X_t_vec, y_t)"
   ]
  },
  {
   "cell_type": "code",
   "execution_count": 108,
   "id": "aab4eccc",
   "metadata": {},
   "outputs": [],
   "source": [
    "y_hat = mnb.predict(X_val_vec)"
   ]
  },
  {
   "cell_type": "code",
   "execution_count": 109,
   "id": "3f04e16a",
   "metadata": {},
   "outputs": [],
   "source": [
    "# from sklearn.model_selection import cross_val_score"
   ]
  },
  {
   "cell_type": "code",
   "execution_count": 110,
   "id": "cc1a113a",
   "metadata": {},
   "outputs": [],
   "source": [
    "# baseline_cv = cross_val_score(baseline_model, X_t_vec, y_t)"
   ]
  },
  {
   "cell_type": "code",
   "execution_count": 111,
   "id": "22314c58",
   "metadata": {},
   "outputs": [],
   "source": [
    "# baseline_cv.mean()"
   ]
  },
  {
   "cell_type": "code",
   "execution_count": 112,
   "id": "5d813f66",
   "metadata": {},
   "outputs": [
    {
     "data": {
      "text/plain": [
       "1    0.568068\n",
       "2    0.361359\n",
       "0    0.070573\n",
       "Name: target, dtype: float64"
      ]
     },
     "execution_count": 112,
     "metadata": {},
     "output_type": "execute_result"
    }
   ],
   "source": [
    "y_t.value_counts(normalize=True)"
   ]
  },
  {
   "cell_type": "markdown",
   "id": "9421eec1",
   "metadata": {},
   "source": [
    "If we were to predict the majority class of 1 every time we would have an accuracy of 56%. Our baseline model has an accuracy score of 67%, which is already better than just pure guessing. "
   ]
  },
  {
   "cell_type": "code",
   "execution_count": 113,
   "id": "869b602f",
   "metadata": {},
   "outputs": [
    {
     "data": {
      "text/plain": [
       "0.6681907250163291"
      ]
     },
     "execution_count": 113,
     "metadata": {},
     "output_type": "execute_result"
    }
   ],
   "source": [
    "accuracy_score(y_val, y_hat)"
   ]
  },
  {
   "cell_type": "code",
   "execution_count": 114,
   "id": "e2fb693c",
   "metadata": {},
   "outputs": [
    {
     "data": {
      "text/plain": [
       "0.6651654026030132"
      ]
     },
     "execution_count": 114,
     "metadata": {},
     "output_type": "execute_result"
    }
   ],
   "source": [
    "precision_score(y_val, y_hat, average='weighted')"
   ]
  },
  {
   "cell_type": "code",
   "execution_count": 115,
   "id": "a5d4ec25",
   "metadata": {},
   "outputs": [],
   "source": [
    "cm = confusion_matrix(y_val, y_hat)"
   ]
  },
  {
   "cell_type": "code",
   "execution_count": 116,
   "id": "4612efac",
   "metadata": {},
   "outputs": [
    {
     "name": "stderr",
     "output_type": "stream",
     "text": [
      "/Library/Frameworks/Python.framework/Versions/3.10/lib/python3.10/site-packages/sklearn/utils/deprecation.py:87: FutureWarning: Function plot_confusion_matrix is deprecated; Function `plot_confusion_matrix` is deprecated in 1.0 and will be removed in 1.2. Use one of the class methods: ConfusionMatrixDisplay.from_predictions or ConfusionMatrixDisplay.from_estimator.\n",
      "  warnings.warn(msg, category=FutureWarning)\n"
     ]
    },
    {
     "data": {
      "text/plain": [
       "<sklearn.metrics._plot.confusion_matrix.ConfusionMatrixDisplay at 0x14073a0b0>"
      ]
     },
     "execution_count": 116,
     "metadata": {},
     "output_type": "execute_result"
    },
    {
     "data": {
      "image/png": "[encoded data removed]",
      "text/plain": [
       "<Figure size 640x480 with 2 Axes>"
      ]
     },
     "metadata": {},
     "output_type": "display_data"
    }
   ],
   "source": [
    "plot_confusion_matrix(baseline_model, X_val_vec, y_val)"
   ]
  },
  {
   "cell_type": "markdown",
   "id": "58d1f637",
   "metadata": {},
   "source": [
    "### Second Model -- MNB with TFIDF vectorizer"
   ]
  },
  {
   "cell_type": "code",
   "execution_count": 121,
   "id": "1a608f30",
   "metadata": {},
   "outputs": [],
   "source": [
    "tfidf = TfidfVectorizer()\n",
    "X_t_vec2 = tfidf.fit_transform(X_t)"
   ]
  },
  {
   "cell_type": "code",
   "execution_count": 122,
   "id": "1252904e",
   "metadata": {},
   "outputs": [],
   "source": [
    "X_val_vec2 = tfidf.transform(X_val)"
   ]
  },
  {
   "cell_type": "code",
   "execution_count": 123,
   "id": "4e5f023a",
   "metadata": {},
   "outputs": [],
   "source": [
    "mnb2 = MultinomialNB()\n",
    "mnb2.fit(X_t_vec2, y_t)\n",
    "y_hat2 = mnb2.predict(X_val_vec2)"
   ]
  },
  {
   "cell_type": "code",
   "execution_count": 124,
   "id": "1670d989",
   "metadata": {},
   "outputs": [
    {
     "data": {
      "text/plain": [
       "0.6322664924885696"
      ]
     },
     "execution_count": 124,
     "metadata": {},
     "output_type": "execute_result"
    }
   ],
   "source": [
    "accuracy_score(y_val, y_hat2)"
   ]
  },
  {
   "cell_type": "code",
   "execution_count": 125,
   "id": "66ef26ff",
   "metadata": {},
   "outputs": [
    {
     "data": {
      "text/plain": [
       "0.6619608875256795"
      ]
     },
     "execution_count": 125,
     "metadata": {},
     "output_type": "execute_result"
    }
   ],
   "source": [
    "precision_score(y_val, y_hat2, average='weighted')"
   ]
  },
  {
   "cell_type": "markdown",
   "id": "af2d06c0",
   "metadata": {},
   "source": [
    "Score decreased with TFIDF vectorizer, will continue to test with both types of vectors with RF model to compare scores."
   ]
  },
  {
   "cell_type": "code",
   "execution_count": 127,
   "id": "2a069975",
   "metadata": {},
   "outputs": [
    {
     "name": "stderr",
     "output_type": "stream",
     "text": [
      "/Library/Frameworks/Python.framework/Versions/3.10/lib/python3.10/site-packages/sklearn/utils/deprecation.py:87: FutureWarning: Function plot_confusion_matrix is deprecated; Function `plot_confusion_matrix` is deprecated in 1.0 and will be removed in 1.2. Use one of the class methods: ConfusionMatrixDisplay.from_predictions or ConfusionMatrixDisplay.from_estimator.\n",
      "  warnings.warn(msg, category=FutureWarning)\n"
     ]
    },
    {
     "data": {
      "text/plain": [
       "<sklearn.metrics._plot.confusion_matrix.ConfusionMatrixDisplay at 0x1403734c0>"
      ]
     },
     "execution_count": 127,
     "metadata": {},
     "output_type": "execute_result"
    },
    {
     "data": {
      "image/png": "[encoded data removed]",
      "text/plain": [
       "<Figure size 640x480 with 2 Axes>"
      ]
     },
     "metadata": {},
     "output_type": "display_data"
    }
   ],
   "source": [
    "plot_confusion_matrix(mnb2, X_val_vec2, y_val)"
   ]
  },
  {
   "cell_type": "markdown",
   "id": "0789191f",
   "metadata": {},
   "source": [
    "### Third Model -- Random Forests with Count vectorizer"
   ]
  },
  {
   "cell_type": "code",
   "execution_count": 188,
   "id": "b38371bf",
   "metadata": {},
   "outputs": [],
   "source": [
    "cv2 = CountVectorizer()"
   ]
  },
  {
   "cell_type": "code",
   "execution_count": 189,
   "id": "de768abf",
   "metadata": {},
   "outputs": [],
   "source": [
    "X_t_vec3 = cv.fit_transform(X_t)"
   ]
  },
  {
   "cell_type": "code",
   "execution_count": 190,
   "id": "7857e51d",
   "metadata": {},
   "outputs": [],
   "source": [
    "X_val_vec3 = cv.transform(X_val)"
   ]
  },
  {
   "cell_type": "code",
   "execution_count": 191,
   "id": "82514cf4",
   "metadata": {},
   "outputs": [],
   "source": [
    "rf = RandomForestClassifier(random_state=42, \n",
    "                            n_estimators=1000, \n",
    "                            max_features= 'sqrt')"
   ]
  },
  {
   "cell_type": "code",
   "execution_count": 192,
   "id": "c336f820",
   "metadata": {},
   "outputs": [
    {
     "data": {
      "text/html": [
       "<style>#sk-container-id-11 {color: black;background-color: white;}#sk-container-id-11 pre{padding: 0;}#sk-container-id-11 div.sk-toggleable {background-color: white;}#sk-container-id-11 label.sk-toggleable__label {cursor: pointer;display: block;width: 100%;margin-bottom: 0;padding: 0.3em;box-sizing: border-box;text-align: center;}#sk-container-id-11 label.sk-toggleable__label-arrow:before {content: \"▸\";float: left;margin-right: 0.25em;color: #696969;}#sk-container-id-11 label.sk-toggleable__label-arrow:hover:before {color: black;}#sk-container-id-11 div.sk-estimator:hover label.sk-toggleable__label-arrow:before {color: black;}#sk-container-id-11 div.sk-toggleable__content {max-height: 0;max-width: 0;overflow: hidden;text-align: left;background-color: #f0f8ff;}#sk-container-id-11 div.sk-toggleable__content pre {margin: 0.2em;color: black;border-radius: 0.25em;background-color: #f0f8ff;}#sk-container-id-11 input.sk-toggleable__control:checked~div.sk-toggleable__content {max-height: 200px;max-width: 100%;overflow: auto;}#sk-container-id-11 input.sk-toggleable__control:checked~label.sk-toggleable__label-arrow:before {content: \"▾\";}#sk-container-id-11 div.sk-estimator input.sk-toggleable__control:checked~label.sk-toggleable__label {background-color: #d4ebff;}#sk-container-id-11 div.sk-label input.sk-toggleable__control:checked~label.sk-toggleable__label {background-color: #d4ebff;}#sk-container-id-11 input.sk-hidden--visually {border: 0;clip: rect(1px 1px 1px 1px);clip: rect(1px, 1px, 1px, 1px);height: 1px;margin: -1px;overflow: hidden;padding: 0;position: absolute;width: 1px;}#sk-container-id-11 div.sk-estimator {font-family: monospace;background-color: #f0f8ff;border: 1px dotted black;border-radius: 0.25em;box-sizing: border-box;margin-bottom: 0.5em;}#sk-container-id-11 div.sk-estimator:hover {background-color: #d4ebff;}#sk-container-id-11 div.sk-parallel-item::after {content: \"\";width: 100%;border-bottom: 1px solid gray;flex-grow: 1;}#sk-container-id-11 div.sk-label:hover label.sk-toggleable__label {background-color: #d4ebff;}#sk-container-id-11 div.sk-serial::before {content: \"\";position: absolute;border-left: 1px solid gray;box-sizing: border-box;top: 0;bottom: 0;left: 50%;z-index: 0;}#sk-container-id-11 div.sk-serial {display: flex;flex-direction: column;align-items: center;background-color: white;padding-right: 0.2em;padding-left: 0.2em;position: relative;}#sk-container-id-11 div.sk-item {position: relative;z-index: 1;}#sk-container-id-11 div.sk-parallel {display: flex;align-items: stretch;justify-content: center;background-color: white;position: relative;}#sk-container-id-11 div.sk-item::before, #sk-container-id-11 div.sk-parallel-item::before {content: \"\";position: absolute;border-left: 1px solid gray;box-sizing: border-box;top: 0;bottom: 0;left: 50%;z-index: -1;}#sk-container-id-11 div.sk-parallel-item {display: flex;flex-direction: column;z-index: 1;position: relative;background-color: white;}#sk-container-id-11 div.sk-parallel-item:first-child::after {align-self: flex-end;width: 50%;}#sk-container-id-11 div.sk-parallel-item:last-child::after {align-self: flex-start;width: 50%;}#sk-container-id-11 div.sk-parallel-item:only-child::after {width: 0;}#sk-container-id-11 div.sk-dashed-wrapped {border: 1px dashed gray;margin: 0 0.4em 0.5em 0.4em;box-sizing: border-box;padding-bottom: 0.4em;background-color: white;}#sk-container-id-11 div.sk-label label {font-family: monospace;font-weight: bold;display: inline-block;line-height: 1.2em;}#sk-container-id-11 div.sk-label-container {text-align: center;}#sk-container-id-11 div.sk-container {/* jupyter's `normalize.less` sets `[hidden] { display: none; }` but bootstrap.min.css set `[hidden] { display: none !important; }` so we also need the `!important` here to be able to override the default hidden behavior on the sphinx rendered scikit-learn.org. See: https://github.com/scikit-learn/scikit-learn/issues/21755 */display: inline-block !important;position: relative;}#sk-container-id-11 div.sk-text-repr-fallback {display: none;}</style><div id=\"sk-container-id-11\" class=\"sk-top-container\"><div class=\"sk-text-repr-fallback\"><pre>RandomForestClassifier(n_estimators=1000, random_state=42)</pre><b>In a Jupyter environment, please rerun this cell to show the HTML representation or trust the notebook. <br />On GitHub, the HTML representation is unable to render, please try loading this page with nbviewer.org.</b></div><div class=\"sk-container\" hidden><div class=\"sk-item\"><div class=\"sk-estimator sk-toggleable\"><input class=\"sk-toggleable__control sk-hidden--visually\" id=\"sk-estimator-id-11\" type=\"checkbox\" checked><label for=\"sk-estimator-id-11\" class=\"sk-toggleable__label sk-toggleable__label-arrow\">RandomForestClassifier</label><div class=\"sk-toggleable__content\"><pre>RandomForestClassifier(n_estimators=1000, random_state=42)</pre></div></div></div></div></div>"
      ],
      "text/plain": [
       "RandomForestClassifier(n_estimators=1000, random_state=42)"
      ]
     },
     "execution_count": 192,
     "metadata": {},
     "output_type": "execute_result"
    }
   ],
   "source": [
    "rf.fit(X_t_vec3, y_t)"
   ]
  },
  {
   "cell_type": "code",
   "execution_count": 193,
   "id": "9271d587",
   "metadata": {},
   "outputs": [
    {
     "data": {
      "text/plain": [
       "0.6726041025220305"
      ]
     },
     "execution_count": 193,
     "metadata": {},
     "output_type": "execute_result"
    }
   ],
   "source": [
    "y_hat3 = rf.predict(X_val_vec3)\n",
    "precision_score(y_val, y_hat3, average='weighted')"
   ]
  },
  {
   "cell_type": "code",
   "execution_count": 194,
   "id": "1a44e604",
   "metadata": {},
   "outputs": [
    {
     "data": {
      "text/plain": [
       "0.6636185499673416"
      ]
     },
     "execution_count": 194,
     "metadata": {},
     "output_type": "execute_result"
    }
   ],
   "source": [
    "accuracy_score(y_val, y_hat3)"
   ]
  },
  {
   "cell_type": "code",
   "execution_count": 195,
   "id": "ebc328dc",
   "metadata": {},
   "outputs": [
    {
     "name": "stderr",
     "output_type": "stream",
     "text": [
      "/Library/Frameworks/Python.framework/Versions/3.10/lib/python3.10/site-packages/sklearn/utils/deprecation.py:87: FutureWarning: Function plot_confusion_matrix is deprecated; Function `plot_confusion_matrix` is deprecated in 1.0 and will be removed in 1.2. Use one of the class methods: ConfusionMatrixDisplay.from_predictions or ConfusionMatrixDisplay.from_estimator.\n",
      "  warnings.warn(msg, category=FutureWarning)\n"
     ]
    },
    {
     "data": {
      "text/plain": [
       "<sklearn.metrics._plot.confusion_matrix.ConfusionMatrixDisplay at 0x144db3280>"
      ]
     },
     "execution_count": 195,
     "metadata": {},
     "output_type": "execute_result"
    },
    {
     "data": {
      "image/png": "[encoded data removed]",
      "text/plain": [
       "<Figure size 640x480 with 2 Axes>"
      ]
     },
     "metadata": {},
     "output_type": "display_data"
    }
   ],
   "source": [
    "plot_confusion_matrix(rf, X_val_vec3, y_val)"
   ]
  },
  {
   "cell_type": "markdown",
   "id": "788311ea",
   "metadata": {},
   "source": [
    "### Fourth Model with Random Forests and TFIDF"
   ]
  },
  {
   "cell_type": "code",
   "execution_count": 202,
   "id": "ba0bec17",
   "metadata": {},
   "outputs": [],
   "source": [
    "tfidf2 = TfidfVectorizer()\n",
    "X_t_vec4 = tfidf2.fit_transform(X_t)"
   ]
  },
  {
   "cell_type": "code",
   "execution_count": 203,
   "id": "1ed75c49",
   "metadata": {},
   "outputs": [],
   "source": [
    "X_val_vec4 = tfidf2.transform(X_val)"
   ]
  },
  {
   "cell_type": "code",
   "execution_count": 204,
   "id": "55cb1831",
   "metadata": {},
   "outputs": [],
   "source": [
    "rf2 = RandomForestClassifier(random_state=42, \n",
    "                            n_estimators=1000, \n",
    "                            max_features= 'sqrt')"
   ]
  },
  {
   "cell_type": "code",
   "execution_count": 205,
   "id": "71f48dda",
   "metadata": {},
   "outputs": [
    {
     "data": {
      "text/html": [
       "<style>#sk-container-id-13 {color: black;background-color: white;}#sk-container-id-13 pre{padding: 0;}#sk-container-id-13 div.sk-toggleable {background-color: white;}#sk-container-id-13 label.sk-toggleable__label {cursor: pointer;display: block;width: 100%;margin-bottom: 0;padding: 0.3em;box-sizing: border-box;text-align: center;}#sk-container-id-13 label.sk-toggleable__label-arrow:before {content: \"▸\";float: left;margin-right: 0.25em;color: #696969;}#sk-container-id-13 label.sk-toggleable__label-arrow:hover:before {color: black;}#sk-container-id-13 div.sk-estimator:hover label.sk-toggleable__label-arrow:before {color: black;}#sk-container-id-13 div.sk-toggleable__content {max-height: 0;max-width: 0;overflow: hidden;text-align: left;background-color: #f0f8ff;}#sk-container-id-13 div.sk-toggleable__content pre {margin: 0.2em;color: black;border-radius: 0.25em;background-color: #f0f8ff;}#sk-container-id-13 input.sk-toggleable__control:checked~div.sk-toggleable__content {max-height: 200px;max-width: 100%;overflow: auto;}#sk-container-id-13 input.sk-toggleable__control:checked~label.sk-toggleable__label-arrow:before {content: \"▾\";}#sk-container-id-13 div.sk-estimator input.sk-toggleable__control:checked~label.sk-toggleable__label {background-color: #d4ebff;}#sk-container-id-13 div.sk-label input.sk-toggleable__control:checked~label.sk-toggleable__label {background-color: #d4ebff;}#sk-container-id-13 input.sk-hidden--visually {border: 0;clip: rect(1px 1px 1px 1px);clip: rect(1px, 1px, 1px, 1px);height: 1px;margin: -1px;overflow: hidden;padding: 0;position: absolute;width: 1px;}#sk-container-id-13 div.sk-estimator {font-family: monospace;background-color: #f0f8ff;border: 1px dotted black;border-radius: 0.25em;box-sizing: border-box;margin-bottom: 0.5em;}#sk-container-id-13 div.sk-estimator:hover {background-color: #d4ebff;}#sk-container-id-13 div.sk-parallel-item::after {content: \"\";width: 100%;border-bottom: 1px solid gray;flex-grow: 1;}#sk-container-id-13 div.sk-label:hover label.sk-toggleable__label {background-color: #d4ebff;}#sk-container-id-13 div.sk-serial::before {content: \"\";position: absolute;border-left: 1px solid gray;box-sizing: border-box;top: 0;bottom: 0;left: 50%;z-index: 0;}#sk-container-id-13 div.sk-serial {display: flex;flex-direction: column;align-items: center;background-color: white;padding-right: 0.2em;padding-left: 0.2em;position: relative;}#sk-container-id-13 div.sk-item {position: relative;z-index: 1;}#sk-container-id-13 div.sk-parallel {display: flex;align-items: stretch;justify-content: center;background-color: white;position: relative;}#sk-container-id-13 div.sk-item::before, #sk-container-id-13 div.sk-parallel-item::before {content: \"\";position: absolute;border-left: 1px solid gray;box-sizing: border-box;top: 0;bottom: 0;left: 50%;z-index: -1;}#sk-container-id-13 div.sk-parallel-item {display: flex;flex-direction: column;z-index: 1;position: relative;background-color: white;}#sk-container-id-13 div.sk-parallel-item:first-child::after {align-self: flex-end;width: 50%;}#sk-container-id-13 div.sk-parallel-item:last-child::after {align-self: flex-start;width: 50%;}#sk-container-id-13 div.sk-parallel-item:only-child::after {width: 0;}#sk-container-id-13 div.sk-dashed-wrapped {border: 1px dashed gray;margin: 0 0.4em 0.5em 0.4em;box-sizing: border-box;padding-bottom: 0.4em;background-color: white;}#sk-container-id-13 div.sk-label label {font-family: monospace;font-weight: bold;display: inline-block;line-height: 1.2em;}#sk-container-id-13 div.sk-label-container {text-align: center;}#sk-container-id-13 div.sk-container {/* jupyter's `normalize.less` sets `[hidden] { display: none; }` but bootstrap.min.css set `[hidden] { display: none !important; }` so we also need the `!important` here to be able to override the default hidden behavior on the sphinx rendered scikit-learn.org. See: https://github.com/scikit-learn/scikit-learn/issues/21755 */display: inline-block !important;position: relative;}#sk-container-id-13 div.sk-text-repr-fallback {display: none;}</style><div id=\"sk-container-id-13\" class=\"sk-top-container\"><div class=\"sk-text-repr-fallback\"><pre>RandomForestClassifier(n_estimators=1000, random_state=42)</pre><b>In a Jupyter environment, please rerun this cell to show the HTML representation or trust the notebook. <br />On GitHub, the HTML representation is unable to render, please try loading this page with nbviewer.org.</b></div><div class=\"sk-container\" hidden><div class=\"sk-item\"><div class=\"sk-estimator sk-toggleable\"><input class=\"sk-toggleable__control sk-hidden--visually\" id=\"sk-estimator-id-13\" type=\"checkbox\" checked><label for=\"sk-estimator-id-13\" class=\"sk-toggleable__label sk-toggleable__label-arrow\">RandomForestClassifier</label><div class=\"sk-toggleable__content\"><pre>RandomForestClassifier(n_estimators=1000, random_state=42)</pre></div></div></div></div></div>"
      ],
      "text/plain": [
       "RandomForestClassifier(n_estimators=1000, random_state=42)"
      ]
     },
     "execution_count": 205,
     "metadata": {},
     "output_type": "execute_result"
    }
   ],
   "source": [
    "rf2.fit(X_t_vec4, y_t)"
   ]
  },
  {
   "cell_type": "code",
   "execution_count": 206,
   "id": "54721aa2",
   "metadata": {},
   "outputs": [
    {
     "data": {
      "text/plain": [
       "0.6734199439532742"
      ]
     },
     "execution_count": 206,
     "metadata": {},
     "output_type": "execute_result"
    }
   ],
   "source": [
    "y_hat4 = rf2.predict(X_val_vec4)\n",
    "precision_score(y_val, y_hat4, average='weighted')"
   ]
  },
  {
   "cell_type": "code",
   "execution_count": 207,
   "id": "055a0958",
   "metadata": {},
   "outputs": [
    {
     "data": {
      "text/plain": [
       "0.6662312214239059"
      ]
     },
     "execution_count": 207,
     "metadata": {},
     "output_type": "execute_result"
    }
   ],
   "source": [
    "accuracy_score(y_val, y_hat4)"
   ]
  },
  {
   "cell_type": "code",
   "execution_count": 208,
   "id": "f37e19f5",
   "metadata": {},
   "outputs": [
    {
     "name": "stderr",
     "output_type": "stream",
     "text": [
      "/Library/Frameworks/Python.framework/Versions/3.10/lib/python3.10/site-packages/sklearn/utils/deprecation.py:87: FutureWarning: Function plot_confusion_matrix is deprecated; Function `plot_confusion_matrix` is deprecated in 1.0 and will be removed in 1.2. Use one of the class methods: ConfusionMatrixDisplay.from_predictions or ConfusionMatrixDisplay.from_estimator.\n",
      "  warnings.warn(msg, category=FutureWarning)\n"
     ]
    },
    {
     "data": {
      "text/plain": [
       "<sklearn.metrics._plot.confusion_matrix.ConfusionMatrixDisplay at 0x14065d570>"
      ]
     },
     "execution_count": 208,
     "metadata": {},
     "output_type": "execute_result"
    },
    {
     "data": {
      "image/png": "[encoded data removed]",
      "text/plain": [
       "<Figure size 640x480 with 2 Axes>"
      ]
     },
     "metadata": {},
     "output_type": "display_data"
    }
   ],
   "source": [
    "plot_confusion_matrix(rf2, X_val_vec4, y_val)"
   ]
  },
  {
   "cell_type": "markdown",
   "id": "217d6d74",
   "metadata": {},
   "source": [
    "### Baseline Model Evalution\n",
    "Of our 4 baseline models, the best performing was model 4 -- TFIDF with Random Forests. It had an overall accuracy of 66.6% and a precision score of 67.3%. We are choosing this model to run with our test data."
   ]
  },
  {
   "cell_type": "markdown",
   "id": "5f45a0d8",
   "metadata": {},
   "source": [
    "### Grid Searching for best parameters"
   ]
  },
  {
   "cell_type": "code",
   "execution_count": 224,
   "id": "0539cfa0",
   "metadata": {},
   "outputs": [],
   "source": [
    "rf = RandomForestClassifier()\n",
    "\n",
    "params = {}\n",
    "params['max_features'] = ['sqrt', 'log2']\n",
    "params['n_estimators'] = [10, 100, 1000]"
   ]
  },
  {
   "cell_type": "code",
   "execution_count": 225,
   "id": "4cdc6954",
   "metadata": {
    "collapsed": true
   },
   "outputs": [
    {
     "name": "stdout",
     "output_type": "stream",
     "text": [
      "Fitting 5 folds for each of 6 candidates, totalling 30 fits\n",
      "Best: 0.658899 using {'max_features': 'sqrt', 'n_estimators': 100}\n",
      "0.629276 (0.008301) with: {'max_features': 'sqrt', 'n_estimators': 10}\n",
      "0.658899 (0.019472) with: {'max_features': 'sqrt', 'n_estimators': 100}\n",
      "0.655414 (0.014670) with: {'max_features': 'sqrt', 'n_estimators': 1000}\n",
      "0.615116 (0.012759) with: {'max_features': 'log2', 'n_estimators': 10}\n",
      "0.640821 (0.010481) with: {'max_features': 'log2', 'n_estimators': 100}\n",
      "0.642563 (0.013926) with: {'max_features': 'log2', 'n_estimators': 1000}\n",
      "[CV 1/5; 1/6] START max_features=sqrt, n_estimators=10..........................\n",
      "[CV 1/5; 1/6] END max_features=sqrt, n_estimators=10;, score=0.622 total time=   0.5s\n",
      "[CV 1/5; 3/6] START max_features=sqrt, n_estimators=1000........................\n",
      "[CV 1/5; 3/6] END max_features=sqrt, n_estimators=1000;, score=0.652 total time=  56.6s\n",
      "[CV 2/5; 2/6] START max_features=sqrt, n_estimators=100.........................\n",
      "[CV 2/5; 2/6] END max_features=sqrt, n_estimators=100;, score=0.681 total time=   5.2s\n",
      "[CV 4/5; 3/6] START max_features=sqrt, n_estimators=1000........................\n",
      "[CV 4/5; 3/6] END max_features=sqrt, n_estimators=1000;, score=0.632 total time=  54.5s\n",
      "[CV 3/5; 2/6] START max_features=sqrt, n_estimators=100.........................\n",
      "[CV 3/5; 2/6] END max_features=sqrt, n_estimators=100;, score=0.648 total time=   5.2s\n",
      "[CV 5/5; 3/6] START max_features=sqrt, n_estimators=1000........................\n",
      "[CV 5/5; 3/6] END max_features=sqrt, n_estimators=1000;, score=0.670 total time=  54.8s\n",
      "[CV 5/5; 1/6] START max_features=sqrt, n_estimators=10..........................\n",
      "[CV 5/5; 1/6] END max_features=sqrt, n_estimators=10;, score=0.642 total time=   0.5s\n",
      "[CV 4/5; 2/6] START max_features=sqrt, n_estimators=100.........................\n",
      "[CV 4/5; 2/6] END max_features=sqrt, n_estimators=100;, score=0.631 total time=   5.0s\n",
      "[CV 1/5; 4/6] START max_features=log2, n_estimators=10..........................\n",
      "[CV 1/5; 4/6] END max_features=log2, n_estimators=10;, score=0.619 total time=   0.5s\n",
      "[CV 5/5; 4/6] START max_features=log2, n_estimators=10..........................\n",
      "[CV 5/5; 4/6] END max_features=log2, n_estimators=10;, score=0.629 total time=   0.4s\n",
      "[CV 3/5; 5/6] START max_features=log2, n_estimators=100.........................\n",
      "[CV 3/5; 5/6] END max_features=log2, n_estimators=100;, score=0.634 total time=   4.4s\n",
      "[CV 1/5; 6/6] START max_features=log2, n_estimators=1000........................\n",
      "[CV 1/5; 6/6] END max_features=log2, n_estimators=1000;, score=0.634 total time=  52.4s\n",
      "[CV 3/5; 1/6] START max_features=sqrt, n_estimators=10..........................\n",
      "[CV 3/5; 1/6] END max_features=sqrt, n_estimators=10;, score=0.635 total time=   0.5s\n",
      "[CV 5/5; 2/6] START max_features=sqrt, n_estimators=100.........................\n",
      "[CV 5/5; 2/6] END max_features=sqrt, n_estimators=100;, score=0.681 total time=   5.1s\n",
      "[CV 3/5; 4/6] START max_features=log2, n_estimators=10..........................\n",
      "[CV 3/5; 4/6] END max_features=log2, n_estimators=10;, score=0.603 total time=   0.5s\n",
      "[CV 1/5; 5/6] START max_features=log2, n_estimators=100.........................\n",
      "[CV 1/5; 5/6] END max_features=log2, n_estimators=100;, score=0.632 total time=   4.6s\n",
      "[CV 4/5; 5/6] START max_features=log2, n_estimators=100.........................\n",
      "[CV 4/5; 5/6] END max_features=log2, n_estimators=100;, score=0.632 total time=   4.6s\n",
      "[CV 2/5; 6/6] START max_features=log2, n_estimators=1000........................\n",
      "[CV 2/5; 6/6] END max_features=log2, n_estimators=1000;, score=0.655 total time=  50.0s\n",
      "[CV 1/5; 2/6] START max_features=sqrt, n_estimators=100.........................\n",
      "[CV 1/5; 2/6] END max_features=sqrt, n_estimators=100;, score=0.654 total time=   5.4s\n",
      "[CV 2/5; 4/6] START max_features=log2, n_estimators=10..........................\n",
      "[CV 2/5; 4/6] END max_features=log2, n_estimators=10;, score=0.627 total time=   0.5s\n",
      "[CV 4/5; 4/6] START max_features=log2, n_estimators=10..........................\n",
      "[CV 4/5; 4/6] END max_features=log2, n_estimators=10;, score=0.597 total time=   0.4s\n",
      "[CV 2/5; 5/6] START max_features=log2, n_estimators=100.........................\n",
      "[CV 2/5; 5/6] END max_features=log2, n_estimators=100;, score=0.648 total time=   4.2s\n",
      "[CV 5/5; 5/6] START max_features=log2, n_estimators=100.........................\n",
      "[CV 5/5; 5/6] END max_features=log2, n_estimators=100;, score=0.658 total time=   4.8s\n",
      "[CV 3/5; 6/6] START max_features=log2, n_estimators=1000........................\n",
      "[CV 3/5; 6/6] END max_features=log2, n_estimators=1000;, score=0.637 total time=  50.3s\n",
      "[CV 2/5; 1/6] START max_features=sqrt, n_estimators=10..........................\n",
      "[CV 2/5; 1/6] END max_features=sqrt, n_estimators=10;, score=0.629 total time=   0.5s\n",
      "[CV 2/5; 3/6] START max_features=sqrt, n_estimators=1000........................\n",
      "[CV 2/5; 3/6] END max_features=sqrt, n_estimators=1000;, score=0.672 total time=  55.0s\n",
      "[CV 4/5; 6/6] START max_features=log2, n_estimators=1000........................\n",
      "[CV 4/5; 6/6] END max_features=log2, n_estimators=1000;, score=0.624 total time=  32.5s\n",
      "[CV 4/5; 1/6] START max_features=sqrt, n_estimators=10..........................\n",
      "[CV 4/5; 1/6] END max_features=sqrt, n_estimators=10;, score=0.619 total time=   0.6s\n",
      "[CV 3/5; 3/6] START max_features=sqrt, n_estimators=1000........................\n",
      "[CV 3/5; 3/6] END max_features=sqrt, n_estimators=1000;, score=0.651 total time=  55.0s\n",
      "[CV 5/5; 6/6] START max_features=log2, n_estimators=1000........................\n",
      "[CV 5/5; 6/6] END max_features=log2, n_estimators=1000;, score=0.662 total time=  32.9s\n"
     ]
    }
   ],
   "source": [
    "grid_search = GridSearchCV(\n",
    "    rf, \n",
    "    param_grid=params, \n",
    "    scoring='accuracy',\n",
    "    n_jobs=-1,\n",
    "    verbose=10\n",
    ")\n",
    "\n",
    "grid_result = grid_search.fit(X_t_vec, y_t)\n",
    "\n",
    "# summarization\n",
    "print(\"Best: %f using %s\" % (grid_result.best_score_, grid_result.best_params_))\n",
    "means = grid_result.cv_results_['mean_test_score']\n",
    "stds = grid_result.cv_results_['std_test_score']\n",
    "params = grid_result.cv_results_['params']\n",
    "\n",
    "for mean, stdev, param in zip(means, stds, params):\n",
    "    print(\"%f (%f) with: %r\" % (mean, stdev, param))"
   ]
  },
  {
   "cell_type": "markdown",
   "id": "30018fd5",
   "metadata": {},
   "source": [
    "### Changing min & max df"
   ]
  },
  {
   "cell_type": "markdown",
   "id": "5d22953c",
   "metadata": {},
   "source": [
    "**min_df** is used for removing terms that appear too infrequently. For example:\n",
    "\n",
    "**min_df** = 0.01 means \"ignore terms that appear in less than 1% of the documents\".\n",
    "**min_df** = 5 means \"ignore terms that appear in less than 5 documents\".\n",
    "The default **min_df** is 1, which means \"ignore terms that appear in less than 1 document\". Thus, the default setting does not ignore any terms."
   ]
  },
  {
   "cell_type": "markdown",
   "id": "e3f89623",
   "metadata": {},
   "source": [
    "**max_df** is used for removing terms that appear too frequently, also known as \"corpus-specific stop words\". For example:\n",
    "\n",
    "**max_df** = 0.50 means \"ignore terms that appear in more than 50% of the documents\".\n",
    "**max_df** = 25 means \"ignore terms that appear in more than 25 documents\".\n",
    "The default **max_df** is 1.0, which means \"ignore terms that appear in more than 100% of the documents\". Thus, the default setting does not ignore any terms."
   ]
  },
  {
   "cell_type": "code",
   "execution_count": 318,
   "id": "f9b1f80b",
   "metadata": {},
   "outputs": [],
   "source": [
    "tfidf3 = TfidfVectorizer(max_df=0.95)"
   ]
  },
  {
   "cell_type": "code",
   "execution_count": 319,
   "id": "1c094bac",
   "metadata": {},
   "outputs": [],
   "source": [
    "X_t_vec5 = tfidf3.fit_transform(X_t)"
   ]
  },
  {
   "cell_type": "code",
   "execution_count": 320,
   "id": "a73b3ccc",
   "metadata": {},
   "outputs": [],
   "source": [
    "X_val_vec5 = tfidf3.transform(X_val)"
   ]
  },
  {
   "cell_type": "code",
   "execution_count": 321,
   "id": "d4b1c2cf",
   "metadata": {},
   "outputs": [],
   "source": [
    "rf3 = RandomForestClassifier(random_state=42, \n",
    "                            n_estimators=1000, \n",
    "                            max_features= 'sqrt')"
   ]
  },
  {
   "cell_type": "code",
   "execution_count": 322,
   "id": "301964d9",
   "metadata": {},
   "outputs": [
    {
     "data": {
      "text/html": [
       "<style>#sk-container-id-25 {color: black;background-color: white;}#sk-container-id-25 pre{padding: 0;}#sk-container-id-25 div.sk-toggleable {background-color: white;}#sk-container-id-25 label.sk-toggleable__label {cursor: pointer;display: block;width: 100%;margin-bottom: 0;padding: 0.3em;box-sizing: border-box;text-align: center;}#sk-container-id-25 label.sk-toggleable__label-arrow:before {content: \"▸\";float: left;margin-right: 0.25em;color: #696969;}#sk-container-id-25 label.sk-toggleable__label-arrow:hover:before {color: black;}#sk-container-id-25 div.sk-estimator:hover label.sk-toggleable__label-arrow:before {color: black;}#sk-container-id-25 div.sk-toggleable__content {max-height: 0;max-width: 0;overflow: hidden;text-align: left;background-color: #f0f8ff;}#sk-container-id-25 div.sk-toggleable__content pre {margin: 0.2em;color: black;border-radius: 0.25em;background-color: #f0f8ff;}#sk-container-id-25 input.sk-toggleable__control:checked~div.sk-toggleable__content {max-height: 200px;max-width: 100%;overflow: auto;}#sk-container-id-25 input.sk-toggleable__control:checked~label.sk-toggleable__label-arrow:before {content: \"▾\";}#sk-container-id-25 div.sk-estimator input.sk-toggleable__control:checked~label.sk-toggleable__label {background-color: #d4ebff;}#sk-container-id-25 div.sk-label input.sk-toggleable__control:checked~label.sk-toggleable__label {background-color: #d4ebff;}#sk-container-id-25 input.sk-hidden--visually {border: 0;clip: rect(1px 1px 1px 1px);clip: rect(1px, 1px, 1px, 1px);height: 1px;margin: -1px;overflow: hidden;padding: 0;position: absolute;width: 1px;}#sk-container-id-25 div.sk-estimator {font-family: monospace;background-color: #f0f8ff;border: 1px dotted black;border-radius: 0.25em;box-sizing: border-box;margin-bottom: 0.5em;}#sk-container-id-25 div.sk-estimator:hover {background-color: #d4ebff;}#sk-container-id-25 div.sk-parallel-item::after {content: \"\";width: 100%;border-bottom: 1px solid gray;flex-grow: 1;}#sk-container-id-25 div.sk-label:hover label.sk-toggleable__label {background-color: #d4ebff;}#sk-container-id-25 div.sk-serial::before {content: \"\";position: absolute;border-left: 1px solid gray;box-sizing: border-box;top: 0;bottom: 0;left: 50%;z-index: 0;}#sk-container-id-25 div.sk-serial {display: flex;flex-direction: column;align-items: center;background-color: white;padding-right: 0.2em;padding-left: 0.2em;position: relative;}#sk-container-id-25 div.sk-item {position: relative;z-index: 1;}#sk-container-id-25 div.sk-parallel {display: flex;align-items: stretch;justify-content: center;background-color: white;position: relative;}#sk-container-id-25 div.sk-item::before, #sk-container-id-25 div.sk-parallel-item::before {content: \"\";position: absolute;border-left: 1px solid gray;box-sizing: border-box;top: 0;bottom: 0;left: 50%;z-index: -1;}#sk-container-id-25 div.sk-parallel-item {display: flex;flex-direction: column;z-index: 1;position: relative;background-color: white;}#sk-container-id-25 div.sk-parallel-item:first-child::after {align-self: flex-end;width: 50%;}#sk-container-id-25 div.sk-parallel-item:last-child::after {align-self: flex-start;width: 50%;}#sk-container-id-25 div.sk-parallel-item:only-child::after {width: 0;}#sk-container-id-25 div.sk-dashed-wrapped {border: 1px dashed gray;margin: 0 0.4em 0.5em 0.4em;box-sizing: border-box;padding-bottom: 0.4em;background-color: white;}#sk-container-id-25 div.sk-label label {font-family: monospace;font-weight: bold;display: inline-block;line-height: 1.2em;}#sk-container-id-25 div.sk-label-container {text-align: center;}#sk-container-id-25 div.sk-container {/* jupyter's `normalize.less` sets `[hidden] { display: none; }` but bootstrap.min.css set `[hidden] { display: none !important; }` so we also need the `!important` here to be able to override the default hidden behavior on the sphinx rendered scikit-learn.org. See: https://github.com/scikit-learn/scikit-learn/issues/21755 */display: inline-block !important;position: relative;}#sk-container-id-25 div.sk-text-repr-fallback {display: none;}</style><div id=\"sk-container-id-25\" class=\"sk-top-container\"><div class=\"sk-text-repr-fallback\"><pre>RandomForestClassifier(n_estimators=1000, random_state=42)</pre><b>In a Jupyter environment, please rerun this cell to show the HTML representation or trust the notebook. <br />On GitHub, the HTML representation is unable to render, please try loading this page with nbviewer.org.</b></div><div class=\"sk-container\" hidden><div class=\"sk-item\"><div class=\"sk-estimator sk-toggleable\"><input class=\"sk-toggleable__control sk-hidden--visually\" id=\"sk-estimator-id-25\" type=\"checkbox\" checked><label for=\"sk-estimator-id-25\" class=\"sk-toggleable__label sk-toggleable__label-arrow\">RandomForestClassifier</label><div class=\"sk-toggleable__content\"><pre>RandomForestClassifier(n_estimators=1000, random_state=42)</pre></div></div></div></div></div>"
      ],
      "text/plain": [
       "RandomForestClassifier(n_estimators=1000, random_state=42)"
      ]
     },
     "execution_count": 322,
     "metadata": {},
     "output_type": "execute_result"
    }
   ],
   "source": [
    "rf3.fit(X_t_vec5, y_t)"
   ]
  },
  {
   "cell_type": "code",
   "execution_count": 323,
   "id": "77a103e2",
   "metadata": {},
   "outputs": [],
   "source": [
    "y_hat5 = rf3.predict(X_val_vec5)\n"
   ]
  },
  {
   "cell_type": "code",
   "execution_count": 324,
   "id": "5a6bf2d8",
   "metadata": {},
   "outputs": [
    {
     "data": {
      "text/plain": [
       "0.675825538436873"
      ]
     },
     "execution_count": 324,
     "metadata": {},
     "output_type": "execute_result"
    }
   ],
   "source": [
    "precision_score(y_val, y_hat5, average='weighted')"
   ]
  },
  {
   "cell_type": "code",
   "execution_count": 325,
   "id": "38e690a9",
   "metadata": {},
   "outputs": [
    {
     "data": {
      "text/plain": [
       "0.6688438928804703"
      ]
     },
     "execution_count": 325,
     "metadata": {},
     "output_type": "execute_result"
    }
   ],
   "source": [
    "accuracy_score(y_val, y_hat5)"
   ]
  },
  {
   "cell_type": "markdown",
   "id": "24c154eb",
   "metadata": {},
   "source": [
    "Changing the min_df essentially had no effect on the accuracy or precision of the model. But changing max_df from the default of 1.0 to 0.95 increased the model's precision to 67.6% and the accuracy score to 66.9%."
   ]
  },
  {
   "cell_type": "markdown",
   "id": "1fd008de",
   "metadata": {},
   "source": [
    "### Model Evaluation on Test Set"
   ]
  },
  {
   "cell_type": "code",
   "execution_count": 326,
   "id": "05784bfb",
   "metadata": {},
   "outputs": [],
   "source": [
    "final_tfidf = TfidfVectorizer(max_df=0.95)\n",
    "X_vec_train_final = final_tfidf.fit_transform(X_train)\n",
    "X_vec_test_final = final_tfidf.transform(X_test)"
   ]
  },
  {
   "cell_type": "code",
   "execution_count": 327,
   "id": "adb2bab3",
   "metadata": {},
   "outputs": [],
   "source": [
    "final_model = RandomForestClassifier(random_state=42, \n",
    "                            n_estimators=1000, \n",
    "                            max_features= 'sqrt')"
   ]
  },
  {
   "cell_type": "code",
   "execution_count": 330,
   "id": "8e65e41c",
   "metadata": {},
   "outputs": [
    {
     "data": {
      "text/html": [
       "<style>#sk-container-id-26 {color: black;background-color: white;}#sk-container-id-26 pre{padding: 0;}#sk-container-id-26 div.sk-toggleable {background-color: white;}#sk-container-id-26 label.sk-toggleable__label {cursor: pointer;display: block;width: 100%;margin-bottom: 0;padding: 0.3em;box-sizing: border-box;text-align: center;}#sk-container-id-26 label.sk-toggleable__label-arrow:before {content: \"▸\";float: left;margin-right: 0.25em;color: #696969;}#sk-container-id-26 label.sk-toggleable__label-arrow:hover:before {color: black;}#sk-container-id-26 div.sk-estimator:hover label.sk-toggleable__label-arrow:before {color: black;}#sk-container-id-26 div.sk-toggleable__content {max-height: 0;max-width: 0;overflow: hidden;text-align: left;background-color: #f0f8ff;}#sk-container-id-26 div.sk-toggleable__content pre {margin: 0.2em;color: black;border-radius: 0.25em;background-color: #f0f8ff;}#sk-container-id-26 input.sk-toggleable__control:checked~div.sk-toggleable__content {max-height: 200px;max-width: 100%;overflow: auto;}#sk-container-id-26 input.sk-toggleable__control:checked~label.sk-toggleable__label-arrow:before {content: \"▾\";}#sk-container-id-26 div.sk-estimator input.sk-toggleable__control:checked~label.sk-toggleable__label {background-color: #d4ebff;}#sk-container-id-26 div.sk-label input.sk-toggleable__control:checked~label.sk-toggleable__label {background-color: #d4ebff;}#sk-container-id-26 input.sk-hidden--visually {border: 0;clip: rect(1px 1px 1px 1px);clip: rect(1px, 1px, 1px, 1px);height: 1px;margin: -1px;overflow: hidden;padding: 0;position: absolute;width: 1px;}#sk-container-id-26 div.sk-estimator {font-family: monospace;background-color: #f0f8ff;border: 1px dotted black;border-radius: 0.25em;box-sizing: border-box;margin-bottom: 0.5em;}#sk-container-id-26 div.sk-estimator:hover {background-color: #d4ebff;}#sk-container-id-26 div.sk-parallel-item::after {content: \"\";width: 100%;border-bottom: 1px solid gray;flex-grow: 1;}#sk-container-id-26 div.sk-label:hover label.sk-toggleable__label {background-color: #d4ebff;}#sk-container-id-26 div.sk-serial::before {content: \"\";position: absolute;border-left: 1px solid gray;box-sizing: border-box;top: 0;bottom: 0;left: 50%;z-index: 0;}#sk-container-id-26 div.sk-serial {display: flex;flex-direction: column;align-items: center;background-color: white;padding-right: 0.2em;padding-left: 0.2em;position: relative;}#sk-container-id-26 div.sk-item {position: relative;z-index: 1;}#sk-container-id-26 div.sk-parallel {display: flex;align-items: stretch;justify-content: center;background-color: white;position: relative;}#sk-container-id-26 div.sk-item::before, #sk-container-id-26 div.sk-parallel-item::before {content: \"\";position: absolute;border-left: 1px solid gray;box-sizing: border-box;top: 0;bottom: 0;left: 50%;z-index: -1;}#sk-container-id-26 div.sk-parallel-item {display: flex;flex-direction: column;z-index: 1;position: relative;background-color: white;}#sk-container-id-26 div.sk-parallel-item:first-child::after {align-self: flex-end;width: 50%;}#sk-container-id-26 div.sk-parallel-item:last-child::after {align-self: flex-start;width: 50%;}#sk-container-id-26 div.sk-parallel-item:only-child::after {width: 0;}#sk-container-id-26 div.sk-dashed-wrapped {border: 1px dashed gray;margin: 0 0.4em 0.5em 0.4em;box-sizing: border-box;padding-bottom: 0.4em;background-color: white;}#sk-container-id-26 div.sk-label label {font-family: monospace;font-weight: bold;display: inline-block;line-height: 1.2em;}#sk-container-id-26 div.sk-label-container {text-align: center;}#sk-container-id-26 div.sk-container {/* jupyter's `normalize.less` sets `[hidden] { display: none; }` but bootstrap.min.css set `[hidden] { display: none !important; }` so we also need the `!important` here to be able to override the default hidden behavior on the sphinx rendered scikit-learn.org. See: https://github.com/scikit-learn/scikit-learn/issues/21755 */display: inline-block !important;position: relative;}#sk-container-id-26 div.sk-text-repr-fallback {display: none;}</style><div id=\"sk-container-id-26\" class=\"sk-top-container\"><div class=\"sk-text-repr-fallback\"><pre>RandomForestClassifier(n_estimators=1000, random_state=42)</pre><b>In a Jupyter environment, please rerun this cell to show the HTML representation or trust the notebook. <br />On GitHub, the HTML representation is unable to render, please try loading this page with nbviewer.org.</b></div><div class=\"sk-container\" hidden><div class=\"sk-item\"><div class=\"sk-estimator sk-toggleable\"><input class=\"sk-toggleable__control sk-hidden--visually\" id=\"sk-estimator-id-26\" type=\"checkbox\" checked><label for=\"sk-estimator-id-26\" class=\"sk-toggleable__label sk-toggleable__label-arrow\">RandomForestClassifier</label><div class=\"sk-toggleable__content\"><pre>RandomForestClassifier(n_estimators=1000, random_state=42)</pre></div></div></div></div></div>"
      ],
      "text/plain": [
       "RandomForestClassifier(n_estimators=1000, random_state=42)"
      ]
     },
     "execution_count": 330,
     "metadata": {},
     "output_type": "execute_result"
    }
   ],
   "source": [
    "final_model.fit(X_vec_train_final, y_train)"
   ]
  },
  {
   "cell_type": "code",
   "execution_count": 331,
   "id": "ac6e38e0",
   "metadata": {
    "scrolled": true
   },
   "outputs": [
    {
     "data": {
      "text/plain": [
       "0.9950996406403136"
      ]
     },
     "execution_count": 331,
     "metadata": {},
     "output_type": "execute_result"
    }
   ],
   "source": [
    "final_model.score(X_vec_train_final, y_train)"
   ]
  },
  {
   "cell_type": "code",
   "execution_count": 335,
   "id": "bfbc8576",
   "metadata": {},
   "outputs": [],
   "source": [
    "y_hat_final = final_model.predict(X_vec_test_final)"
   ]
  },
  {
   "cell_type": "code",
   "execution_count": 334,
   "id": "3b22ca6a",
   "metadata": {
    "scrolled": true
   },
   "outputs": [
    {
     "data": {
      "text/plain": [
       "0.6629103380695738"
      ]
     },
     "execution_count": 334,
     "metadata": {},
     "output_type": "execute_result"
    }
   ],
   "source": [
    "final_model.score(X_vec_test_final, y_test)"
   ]
  },
  {
   "cell_type": "code",
   "execution_count": 336,
   "id": "77e695b1",
   "metadata": {},
   "outputs": [
    {
     "data": {
      "text/plain": [
       "0.6549667246335075"
      ]
     },
     "execution_count": 336,
     "metadata": {},
     "output_type": "execute_result"
    }
   ],
   "source": [
    "precision_score(y_test, y_hat_final, average='weighted')"
   ]
  },
  {
   "cell_type": "code",
   "execution_count": 337,
   "id": "5c27315b",
   "metadata": {},
   "outputs": [
    {
     "name": "stderr",
     "output_type": "stream",
     "text": [
      "/Library/Frameworks/Python.framework/Versions/3.10/lib/python3.10/site-packages/sklearn/utils/deprecation.py:87: FutureWarning: Function plot_confusion_matrix is deprecated; Function `plot_confusion_matrix` is deprecated in 1.0 and will be removed in 1.2. Use one of the class methods: ConfusionMatrixDisplay.from_predictions or ConfusionMatrixDisplay.from_estimator.\n",
      "  warnings.warn(msg, category=FutureWarning)\n"
     ]
    },
    {
     "data": {
      "text/plain": [
       "<sklearn.metrics._plot.confusion_matrix.ConfusionMatrixDisplay at 0x16a3a0970>"
      ]
     },
     "execution_count": 337,
     "metadata": {},
     "output_type": "execute_result"
    },
    {
     "data": {
      "image/png": "[encoded data removed]",
      "text/plain": [
       "<Figure size 640x480 with 2 Axes>"
      ]
     },
     "metadata": {},
     "output_type": "display_data"
    }
   ],
   "source": [
    "plot_confusion_matrix(final_model, X_vec_test_final, y_test)"
   ]
  },
  {
   "cell_type": "markdown",
   "id": "9f6126d8",
   "metadata": {},
   "source": [
    "### Word Cloud Analysis"
   ]
  },
  {
   "cell_type": "code",
   "execution_count": 340,
   "id": "30ac9a47",
   "metadata": {},
   "outputs": [
    {
     "name": "stdout",
     "output_type": "stream",
     "text": [
      "Collecting wordcloud\n",
      "  Downloading wordcloud-1.8.2.2.tar.gz (220 kB)\n",
      "\u001b[2K     \u001b[90m━━━━━━━━━━━━━━━━━━━━━━━━━━━━━━━━━━━━━━━\u001b[0m \u001b[32m220.8/220.8 kB\u001b[0m \u001b[31m3.0 MB/s\u001b[0m eta \u001b[36m0:00:00\u001b[0ma \u001b[36m0:00:01\u001b[0m\n",
      "\u001b[?25h  Preparing metadata (setup.py) ... \u001b[?25ldone\n",
      "\u001b[?25hRequirement already satisfied: numpy>=1.6.1 in /Library/Frameworks/Python.framework/Versions/3.10/lib/python3.10/site-packages (from wordcloud) (1.23.3)\n",
      "Requirement already satisfied: pillow in /Library/Frameworks/Python.framework/Versions/3.10/lib/python3.10/site-packages (from wordcloud) (9.2.0)\n",
      "Requirement already satisfied: matplotlib in /Library/Frameworks/Python.framework/Versions/3.10/lib/python3.10/site-packages (from wordcloud) (3.5.3)\n",
      "Requirement already satisfied: fonttools>=4.22.0 in /Library/Frameworks/Python.framework/Versions/3.10/lib/python3.10/site-packages (from matplotlib->wordcloud) (4.37.1)\n",
      "Requirement already satisfied: python-dateutil>=2.7 in /Library/Frameworks/Python.framework/Versions/3.10/lib/python3.10/site-packages (from matplotlib->wordcloud) (2.8.2)\n",
      "Requirement already satisfied: cycler>=0.10 in /Library/Frameworks/Python.framework/Versions/3.10/lib/python3.10/site-packages (from matplotlib->wordcloud) (0.11.0)\n",
      "Requirement already satisfied: packaging>=20.0 in /Library/Frameworks/Python.framework/Versions/3.10/lib/python3.10/site-packages (from matplotlib->wordcloud) (21.3)\n",
      "Requirement already satisfied: kiwisolver>=1.0.1 in /Library/Frameworks/Python.framework/Versions/3.10/lib/python3.10/site-packages (from matplotlib->wordcloud) (1.4.4)\n",
      "Requirement already satisfied: pyparsing>=2.2.1 in /Library/Frameworks/Python.framework/Versions/3.10/lib/python3.10/site-packages (from matplotlib->wordcloud) (3.0.9)\n",
      "Requirement already satisfied: six>=1.5 in /Library/Frameworks/Python.framework/Versions/3.10/lib/python3.10/site-packages (from python-dateutil>=2.7->matplotlib->wordcloud) (1.16.0)\n",
      "Building wheels for collected packages: wordcloud\n",
      "  Building wheel for wordcloud (setup.py) ... \u001b[?25ldone\n",
      "\u001b[?25h  Created wheel for wordcloud: filename=wordcloud-1.8.2.2-cp310-cp310-macosx_10_9_universal2.whl size=218380 sha256=247d2e677fa10f7f77c9f97ba6074ded11dbb08ffd08250faafadb7de08b2193\n",
      "  Stored in directory: /Users/ashlidougherty/Library/Caches/pip/wheels/30/52/73/36458d38e3c533678a3043949ad72658025d8e89d942439d49\n",
      "Successfully built wordcloud\n",
      "Installing collected packages: wordcloud\n",
      "Successfully installed wordcloud-1.8.2.2\n",
      "Note: you may need to restart the kernel to use updated packages.\n"
     ]
    }
   ],
   "source": [
    "pip install wordcloud"
   ]
  },
  {
   "cell_type": "code",
   "execution_count": 341,
   "id": "1a23e7af",
   "metadata": {
    "scrolled": true
   },
   "outputs": [],
   "source": [
    "from wordcloud import WordCloud"
   ]
  },
  {
   "cell_type": "code",
   "execution_count": 342,
   "id": "7ff95daa",
   "metadata": {},
   "outputs": [],
   "source": [
    "import matplotlib as plt"
   ]
  },
  {
   "cell_type": "code",
   "execution_count": 344,
   "id": "1f097948",
   "metadata": {},
   "outputs": [],
   "source": [
    "def generate_wordcloud(corpus, collocations = False, background_color ='black',\n",
    "                      colormap='Greens', display = True):\n",
    "    wordcloud = WordCloud(collocations=collocations, background_color=background_color,\n",
    "                         colormap=colormap, width=500, height=300)\n",
    "    wordcloud.generate(','.join(corpus))\n",
    "    \n",
    "    if display:\n",
    "        plt.figure(figsize= (12,15), facecolor=None)\n",
    "        plt.imshow(wordcloud)\n",
    "        plt.axis('off');\n",
    "    return wordcloud"
   ]
  },
  {
   "cell_type": "code",
   "execution_count": null,
   "id": "c06c25e0",
   "metadata": {},
   "outputs": [],
   "source": []
  },
  {
   "cell_type": "code",
   "execution_count": null,
   "id": "42681738",
   "metadata": {},
   "outputs": [],
   "source": []
  },
  {
   "cell_type": "code",
   "execution_count": null,
   "id": "7e53f7c8",
   "metadata": {},
   "outputs": [],
   "source": []
  },
  {
   "cell_type": "code",
   "execution_count": null,
   "id": "661acf8d",
   "metadata": {},
   "outputs": [],
   "source": []
  }
 ],
 "metadata": {
  "kernelspec": {
   "display_name": "Python 3 (ipykernel)",
   "language": "python",
   "name": "python3"
  },
  "language_info": {
   "codemirror_mode": {
    "name": "ipython",
    "version": 3
   },
   "file_extension": ".py",
   "mimetype": "text/x-python",
   "name": "python",
   "nbconvert_exporter": "python",
   "pygments_lexer": "ipython3",
   "version": "3.10.7"
  }
 },
 "nbformat": 4,
 "nbformat_minor": 5
}
